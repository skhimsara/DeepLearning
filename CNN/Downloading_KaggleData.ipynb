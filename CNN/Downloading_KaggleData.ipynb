{
  "nbformat": 4,
  "nbformat_minor": 0,
  "metadata": {
    "colab": {
      "name": "Downloading_KaggleData",
      "version": "0.3.2",
      "provenance": [],
      "collapsed_sections": []
    },
    "kernelspec": {
      "name": "python3",
      "display_name": "Python 3"
    }
  },
  "cells": [
    {
      "cell_type": "markdown",
      "metadata": {
        "id": "view-in-github",
        "colab_type": "text"
      },
      "source": [
        "[View in Colaboratory](https://colab.research.google.com/github/skhimsara/CNN/blob/master/Downloading_KaggleData.ipynb)"
      ]
    },
    {
      "metadata": {
        "id": "6pGkLaCr7xY9",
        "colab_type": "code",
        "colab": {
          "base_uri": "https://localhost:8080/",
          "height": 136
        },
        "outputId": "5368fe11-4169-449c-9a76-192b3fe34793"
      },
      "cell_type": "code",
      "source": [
        "!df -h\n"
      ],
      "execution_count": 1,
      "outputs": [
        {
          "output_type": "stream",
          "text": [
            "Filesystem      Size  Used Avail Use% Mounted on\r\n",
            "overlay          40G  5.0G   33G  14% /\r\n",
            "tmpfs           6.4G     0  6.4G   0% /dev\r\n",
            "tmpfs           6.4G     0  6.4G   0% /sys/fs/cgroup\r\n",
            "/dev/sda1        46G  5.6G   40G  13% /etc/hosts\r\n",
            "shm              64M     0   64M   0% /dev/shm\r\n",
            "tmpfs           6.4G     0  6.4G   0% /sys/firmware\r\n"
          ],
          "name": "stdout"
        }
      ]
    },
    {
      "metadata": {
        "id": "pT_un4CU7yQy",
        "colab_type": "code",
        "colab": {
          "base_uri": "https://localhost:8080/",
          "height": 255
        },
        "outputId": "45d3ee2f-80e6-44e1-cfa6-a634e99c96a3"
      },
      "cell_type": "code",
      "source": [
        "!pip install kaggle"
      ],
      "execution_count": 3,
      "outputs": [
        {
          "output_type": "stream",
          "text": [
            "Collecting kaggle\n",
            "  Downloading https://files.pythonhosted.org/packages/14/a5/577e46094b1552a316e3ece8d357e1d6a69816effd00110a6dfffc2c7afb/kaggle-1.3.1.tar.gz\n",
            "Requirement already satisfied: urllib3>=1.15 in /usr/local/lib/python3.6/dist-packages (from kaggle)\n",
            "Requirement already satisfied: six>=1.10 in /usr/local/lib/python3.6/dist-packages (from kaggle)\n",
            "Requirement already satisfied: certifi in /usr/local/lib/python3.6/dist-packages (from kaggle)\n",
            "Requirement already satisfied: python-dateutil in /usr/local/lib/python3.6/dist-packages (from kaggle)\n",
            "Building wheels for collected packages: kaggle\n",
            "  Running setup.py bdist_wheel for kaggle ... \u001b[?25l-\b \b\\\b \bdone\n",
            "\u001b[?25h  Stored in directory: /content/.cache/pip/wheels/f4/a4/10/5c73183f0618678e5fbe387d30168f45fb9b441841394a25ab\n",
            "Successfully built kaggle\n",
            "Installing collected packages: kaggle\n",
            "Successfully installed kaggle-1.3.1\n",
            "\u001b[33mYou are using pip version 9.0.3, however version 10.0.1 is available.\n",
            "You should consider upgrading via the 'pip install --upgrade pip' command.\u001b[0m\n"
          ],
          "name": "stdout"
        }
      ]
    },
    {
      "metadata": {
        "id": "kxmVjSvc8Y4u",
        "colab_type": "code",
        "colab": {
          "base_uri": "https://localhost:8080/",
          "height": 51
        },
        "outputId": "15dab1ac-5e9b-466c-ee0c-b86faed4d91c"
      },
      "cell_type": "code",
      "source": [
        "!kaggle competitions list"
      ],
      "execution_count": 5,
      "outputs": [
        {
          "output_type": "stream",
          "text": [
            "Unauthorized: you must download an API key from https://www.kaggle.com/<username>/account\r\n",
            "Then put kaggle.json in the folder /content/.kaggle\r\n"
          ],
          "name": "stdout"
        }
      ]
    },
    {
      "metadata": {
        "id": "7yOKxcl08g1o",
        "colab_type": "code",
        "colab": {
          "base_uri": "https://localhost:8080/",
          "height": 34
        },
        "outputId": "df2b19ab-146d-471b-dd2c-809dc00cd924"
      },
      "cell_type": "code",
      "source": [
        "ls"
      ],
      "execution_count": 6,
      "outputs": [
        {
          "output_type": "stream",
          "text": [
            "\u001b[0m\u001b[01;34mdatalab\u001b[0m/\r\n"
          ],
          "name": "stdout"
        }
      ]
    },
    {
      "metadata": {
        "id": "OtHxVHak9zdc",
        "colab_type": "code",
        "colab": {
          "base_uri": "https://localhost:8080/",
          "height": 34
        },
        "outputId": "8ff272be-2e41-4b71-c103-55f17d6ea6bd"
      },
      "cell_type": "code",
      "source": [
        "pwd"
      ],
      "execution_count": 7,
      "outputs": [
        {
          "output_type": "execute_result",
          "data": {
            "text/plain": [
              "'/content'"
            ]
          },
          "metadata": {
            "tags": []
          },
          "execution_count": 7
        }
      ]
    },
    {
      "metadata": {
        "id": "rAlcM9CC90X7",
        "colab_type": "code",
        "colab": {
          "resources": {
            "http://localhost:8080/nbextensions/google.colab/files.js": {
              "data": "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",
              "ok": true,
              "headers": [
                [
                  "content-type",
                  "application/javascript"
                ]
              ],
              "status": 200,
              "status_text": ""
            }
          },
          "base_uri": "https://localhost:8080/",
          "height": 69
        },
        "outputId": "e30a6881-135b-422b-ec12-8ed220da6309"
      },
      "cell_type": "code",
      "source": [
        "from google.colab import files\n",
        "uploaded = files.upload()"
      ],
      "execution_count": 8,
      "outputs": [
        {
          "output_type": "display_data",
          "data": {
            "text/html": [
              "\n",
              "     <input type=\"file\" id=\"files-6dc8e3de-01f2-4c65-9a68-66efb1d617ba\" name=\"files[]\" multiple disabled />\n",
              "     <output id=\"result-6dc8e3de-01f2-4c65-9a68-66efb1d617ba\">\n",
              "      Upload widget is only available when the cell has been executed in the\n",
              "      current browser session. Please rerun this cell to enable.\n",
              "      </output>\n",
              "      <script src=\"/nbextensions/google.colab/files.js\"></script> "
            ],
            "text/plain": [
              "<IPython.core.display.HTML object>"
            ]
          },
          "metadata": {
            "tags": []
          }
        },
        {
          "output_type": "stream",
          "text": [
            "Saving kaggle.json to kaggle.json\n"
          ],
          "name": "stdout"
        }
      ]
    },
    {
      "metadata": {
        "id": "7qCbNr9X99SB",
        "colab_type": "code",
        "colab": {
          "base_uri": "https://localhost:8080/",
          "height": 51
        },
        "outputId": "6c6fd0ba-69f0-425c-97d6-a1307aa4465b"
      },
      "cell_type": "code",
      "source": [
        "!kaggle competitions list"
      ],
      "execution_count": 9,
      "outputs": [
        {
          "output_type": "stream",
          "text": [
            "Unauthorized: you must download an API key from https://www.kaggle.com/<username>/account\r\n",
            "Then put kaggle.json in the folder /content/.kaggle\r\n"
          ],
          "name": "stdout"
        }
      ]
    },
    {
      "metadata": {
        "id": "O1ZjQt9F-Agg",
        "colab_type": "code",
        "colab": {
          "base_uri": "https://localhost:8080/",
          "height": 34
        },
        "outputId": "77af9176-85aa-48ca-9b34-d366b08982d5"
      },
      "cell_type": "code",
      "source": [
        "ls"
      ],
      "execution_count": 10,
      "outputs": [
        {
          "output_type": "stream",
          "text": [
            "\u001b[0m\u001b[01;34mdatalab\u001b[0m/  kaggle.json\r\n"
          ],
          "name": "stdout"
        }
      ]
    },
    {
      "metadata": {
        "id": "xrt7rfVo-Cmn",
        "colab_type": "code",
        "colab": {
          "base_uri": "https://localhost:8080/",
          "height": 34
        },
        "outputId": "35bcaa36-fb03-4a63-8b58-0d7601a70dd5"
      },
      "cell_type": "code",
      "source": [
        "!mkdir .kaggle\n",
        "!cp kaggle.json  .kaggle\n",
        "!chmod 600 /content/.kaggle/kaggle.json"
      ],
      "execution_count": 11,
      "outputs": [
        {
          "output_type": "stream",
          "text": [
            "mkdir: cannot create directory ‘.kaggle’: File exists\r\n"
          ],
          "name": "stdout"
        }
      ]
    },
    {
      "metadata": {
        "id": "qL3d5AY0-JMU",
        "colab_type": "code",
        "colab": {
          "base_uri": "https://localhost:8080/",
          "height": 221
        },
        "outputId": "68fc38f3-093a-434f-f537-9960bfa3b788"
      },
      "cell_type": "code",
      "source": [
        "ls -al"
      ],
      "execution_count": 12,
      "outputs": [
        {
          "output_type": "stream",
          "text": [
            "total 44\r\n",
            "drwxr-xr-x 1 root root 4096 Apr 24 04:44 \u001b[0m\u001b[01;34m.\u001b[0m/\r\n",
            "drwxr-xr-x 1 root root 4096 Apr 24 04:32 \u001b[01;34m..\u001b[0m/\r\n",
            "drwx------ 4 root root 4096 Apr 24 04:35 \u001b[01;34m.cache\u001b[0m/\r\n",
            "drwxr-xr-x 3 root root 4096 Apr 24 04:35 \u001b[01;34m.config\u001b[0m/\r\n",
            "drwxr-xr-x 1 root root 4096 Apr 11 21:57 \u001b[01;34mdatalab\u001b[0m/\r\n",
            "drwxr-xr-x 4 root root 4096 Apr 24 04:33 \u001b[01;34m.forever\u001b[0m/\r\n",
            "drwxr-xr-x 5 root root 4096 Apr 24 04:35 \u001b[01;34m.ipython\u001b[0m/\r\n",
            "drwxr-xr-x 2 root root 4096 Apr 24 04:45 \u001b[01;34m.kaggle\u001b[0m/\r\n",
            "-rw-r--r-- 1 root root   65 Apr 24 04:44 kaggle.json\r\n",
            "drwx------ 3 root root 4096 Apr 24 04:33 \u001b[01;34m.local\u001b[0m/\r\n",
            "-rw------- 1 root root 1024 Apr 24 04:33 .rnd\r\n"
          ],
          "name": "stdout"
        }
      ]
    },
    {
      "metadata": {
        "id": "6hf-bTt7-L-k",
        "colab_type": "code",
        "colab": {
          "base_uri": "https://localhost:8080/",
          "height": 85
        },
        "outputId": "71014f41-9eb6-4182-c5b7-ed35939b8c94"
      },
      "cell_type": "code",
      "source": [
        "ls -al .kaggle/"
      ],
      "execution_count": 13,
      "outputs": [
        {
          "output_type": "stream",
          "text": [
            "total 12\r\n",
            "drwxr-xr-x 2 root root 4096 Apr 24 04:45 \u001b[0m\u001b[01;34m.\u001b[0m/\r\n",
            "drwxr-xr-x 1 root root 4096 Apr 24 04:44 \u001b[01;34m..\u001b[0m/\r\n",
            "-rw-r--r-- 1 root root   65 Apr 24 04:45 kaggle.json\r\n"
          ],
          "name": "stdout"
        }
      ]
    },
    {
      "metadata": {
        "id": "QuyVl2oJ-On7",
        "colab_type": "code",
        "colab": {}
      },
      "cell_type": "code",
      "source": [
        "rm kaggle.json"
      ],
      "execution_count": 0,
      "outputs": []
    },
    {
      "metadata": {
        "id": "Qk5YMZDq-QXS",
        "colab_type": "code",
        "colab": {
          "base_uri": "https://localhost:8080/",
          "height": 408
        },
        "outputId": "56274a14-01ef-4652-ef4d-1a72cb8e63a4"
      },
      "cell_type": "code",
      "source": [
        "!kaggle competitions list"
      ],
      "execution_count": 15,
      "outputs": [
        {
          "output_type": "stream",
          "text": [
            "Warning: Your Kaggle API key is readable by other users on this system! To fix this, you can run 'chmod 600 /content/.kaggle/kaggle.json'\n",
            "ref                                             deadline             category            reward  teamCount  userHasEntered  \n",
            "----------------------------------------------  -------------------  ---------------  ---------  ---------  --------------  \n",
            "imagenet-object-detection-challenge             2029-12-31 07:00:00  Research         Knowledge          0           False  \n",
            "imagenet-object-detection-from-video-challenge  2029-12-31 07:00:00  Research         Knowledge          0           False  \n",
            "imagenet-object-localization-challenge          2029-12-31 07:00:00  Research         Knowledge          7           False  \n",
            "titanic                                         2020-04-07 00:00:00  Getting Started  Knowledge      11142            True  \n",
            "house-prices-advanced-regression-techniques     2020-03-01 23:59:00  Getting Started  Knowledge       5076           False  \n",
            "digit-recognizer                                2020-01-07 00:00:00  Getting Started  Knowledge       2283            True  \n",
            "competitive-data-science-predict-future-sales   2019-01-01 23:59:00  Playground           Kudos        319           False  \n",
            "freesound-audio-tagging                         2018-07-31 23:59:00  Research         Knowledge         74           False  \n",
            "whale-categorization-playground                 2018-07-09 23:59:00  Playground           Kudos        205           False  \n",
            "cvpr-2018-autonomous-driving                    2018-06-11 23:59:00  Research            $2,500         31           False  \n",
            "inaturalist-2018                                2018-06-04 23:59:00  Research             Kudos         34           False  \n",
            "imaterialist-challenge-fashion-2018             2018-05-30 23:59:00  Research            $2,500         67           False  \n",
            "imaterialist-challenge-furniture-2018           2018-05-30 23:59:00  Research            $2,500        237           False  \n",
            "landmark-retrieval-challenge                    2018-05-22 23:59:00  Research            $2,500        129           False  \n",
            "landmark-recognition-challenge                  2018-05-22 23:59:00  Research            $2,500        285           False  \n",
            "talkingdata-adtracking-fraud-detection          2018-05-07 23:59:00  Featured           $25,000       3362           False  \n",
            "donorschoose-application-screening              2018-04-25 23:59:00  Playground            Swag        568           False  \n",
            "data-science-bowl-2018                          2018-04-16 23:59:00  Featured          $100,000       3634           False  \n",
            "mens-machine-learning-competition-2018          2018-04-02 23:59:00  Featured           $50,000        934           False  \n",
            "womens-machine-learning-competition-2018        2018-04-01 23:59:00  Featured           $50,000        505           False  \n"
          ],
          "name": "stdout"
        }
      ]
    },
    {
      "metadata": {
        "id": "M8P8JaTT-TAh",
        "colab_type": "code",
        "colab": {
          "base_uri": "https://localhost:8080/",
          "height": 119
        },
        "outputId": "ebe48564-972c-426e-bc9f-c582eeef405a"
      },
      "cell_type": "code",
      "source": [
        "!kaggle competitions files -c dogs-vs-cats"
      ],
      "execution_count": 19,
      "outputs": [
        {
          "output_type": "stream",
          "text": [
            "Warning: Your Kaggle API key is readable by other users on this system! To fix this, you can run 'chmod 600 /content/.kaggle/kaggle.json'\n",
            "name                   size  creationDate         \n",
            "--------------------  -----  -------------------  \n",
            "sampleSubmission.csv   87KB  2013-09-20 15:47:40  \n",
            "test1.zip             271MB  2013-09-20 15:49:17  \n",
            "train.zip             543MB  2013-09-20 15:52:50  \n"
          ],
          "name": "stdout"
        }
      ]
    },
    {
      "metadata": {
        "id": "Lg0CXSvq-ah-",
        "colab_type": "code",
        "colab": {
          "base_uri": "https://localhost:8080/",
          "height": 85
        },
        "outputId": "30152c94-0f12-49c1-c817-1c57a63afc61"
      },
      "cell_type": "code",
      "source": [
        "!kaggle competitions download  -c dogs-vs-cats -p /content/kaggle"
      ],
      "execution_count": 20,
      "outputs": [
        {
          "output_type": "stream",
          "text": [
            "Warning: Your Kaggle API key is readable by other users on this system! To fix this, you can run 'chmod 600 /content/.kaggle/kaggle.json'\n",
            "sampleSubmission.csv: Downloaded 87KB of 87KB\n",
            "test1.zip: Downloaded 271MB of 271MB\n",
            "train.zip: Downloaded 543MB of 543MB\n"
          ],
          "name": "stdout"
        }
      ]
    },
    {
      "metadata": {
        "id": "KWjEeki0-xrZ",
        "colab_type": "code",
        "colab": {
          "base_uri": "https://localhost:8080/",
          "height": 408
        },
        "outputId": "eaa2420a-b236-4558-c18d-90b04e90f355"
      },
      "cell_type": "code",
      "source": [
        "!kaggle datasets list"
      ],
      "execution_count": 22,
      "outputs": [
        {
          "output_type": "stream",
          "text": [
            "Warning: Your Kaggle API key is readable by other users on this system! To fix this, you can run 'chmod 600 /content/.kaggle/kaggle.json'\n",
            "ref                                                      title                                      size  lastUpdated          downloadCount  \n",
            "-------------------------------------------------------  ----------------------------------------  -----  -------------------  -------------  \n",
            "kiva/data-science-for-good-kiva-crowdfunding             Data Science for Good: Kiva Crowdfunding   42MB  2018-03-02 20:20:57           7212  \n",
            "aashita/nyt-comments                                     New York Times Comments                   395MB  2018-04-23 12:54:09            388  \n",
            "therohk/reuters-news-wire-archive                        The Historical Reuters News-Wire          172MB  2018-04-10 09:17:22            502  \n",
            "mlg-ulb/creditcardfraud                                  Credit Card Fraud Detection                66MB  2018-03-23 01:17:27          60865  \n",
            "dorbicycle/world-foodfeed-production                     Who eats the food we grow?                874KB  2017-11-30 06:32:35           2927  \n",
            "manasgarg/ipl                                            Indian Premier League (Cricket)             1MB  2017-11-23 01:33:56          11975  \n",
            "dgawlik/nyse                                             New York Stock Exchange                   101MB  2017-02-22 10:18:25          13512  \n",
            "aaronschlegel/austin-animal-center-shelter-outcomes-and  Austin Animal Center Shelter Outcomes       3MB  2018-02-16 17:39:55           1082  \n",
            "snapcrack/all-the-news                                   All the news                              639MB  2017-08-20 05:58:47           2093  \n",
            "ramirobentes/flights-in-brazil                           Flights in Brazil                          41MB  2017-11-14 20:02:52           1177  \n",
            "kmader/rsna-bone-age                                     RSNA Bone Age                               9GB  2018-01-24 14:37:16           1242  \n",
            "4quant/eye-gaze                                          Eye Gaze                                  668MB  2017-05-02 12:10:22            960  \n",
            "unsdsn/world-happiness                                   World Happiness Report                     62KB  2017-06-14 20:41:45          25744  \n",
            "alexattia/the-simpsons-characters-dataset                The Simpsons Characters Data                1GB  2018-04-13 22:55:01           3312  \n",
            "census/2015-american-community-survey                    2015 American Community Survey              4GB  2017-02-04 11:57:18            808  \n",
            "benhamner/sf-bay-area-bike-share                         SF Bay Area Bike Share                      4GB  2016-06-14 04:07:05           6195  \n",
            "wanghaohan/confused-eeg                                  Confused student EEG brainwave data       109MB  2018-03-28 20:52:52           2831  \n",
            "mylesoneill/game-of-thrones                              Game of Thrones                           257KB  2016-05-20 01:32:31          14692  \n",
            "nickhould/craft-cans                                     Craft Beers Dataset                       178KB  2017-01-18 02:34:16           5261  \n",
            "kinguistics/heartbeat-sounds                             Heartbeat Sounds                          152MB  2016-11-27 01:33:54           3951  \n"
          ],
          "name": "stdout"
        }
      ]
    },
    {
      "metadata": {
        "id": "phEI8S92cbV9",
        "colab_type": "text"
      },
      "cell_type": "markdown",
      "source": [
        ""
      ]
    },
    {
      "metadata": {
        "id": "VNZA1eiN_GFn",
        "colab_type": "code",
        "colab": {
          "base_uri": "https://localhost:8080/",
          "height": 408
        },
        "outputId": "967b313a-ec7e-45d3-c87c-c99b12bc7193"
      },
      "cell_type": "code",
      "source": [
        "!kaggle datasets list -s dogs"
      ],
      "execution_count": 23,
      "outputs": [
        {
          "output_type": "stream",
          "text": [
            "Warning: Your Kaggle API key is readable by other users on this system! To fix this, you can run 'chmod 600 /content/.kaggle/kaggle.json'\n",
            "ref                                                  title                                           size  lastUpdated          downloadCount  \n",
            "---------------------------------------------------  ---------------------------------------------  -----  -------------------  -------------  \n",
            "aaronschlegel/seattle-pet-licenses                   Seattle Pet Licenses                             1MB  2018-03-12 21:51:22            760  \n",
            "vincela9/charlottesville-on-twitter                  #Charlottesville on Twitter                    178MB  2017-08-21 22:36:17            342  \n",
            "selfishgene/youtube-faces-with-facial-keypoints      YouTube Faces With Facial Keypoints             10GB  2017-11-14 05:46:08           1306  \n",
            "colinmorris/favicons                                 Favicons                                       837MB  2017-11-15 03:35:22            507  \n",
            "puppygogo/sa-dog-ownership-sample                    SA & Victorian pet ownership data                3MB  2017-11-24 05:02:35            156  \n",
            "jbuchner/spokenverbs                                 Spoken Verbs                                   349MB  2017-12-21 18:27:03             46  \n",
            "mmoreaux/audio-cats-and-dogs                         Audio Cats and Dogs                             59MB  2017-10-05 09:40:26            670  \n",
            "rtatman/5day-data-challenge-signup-survey-responses  5-Day Data Challenge Sign-Up Survey Responses  706KB  2017-12-13 00:09:15            165  \n",
            "new-york-city/nyc-dog-names                          NYC Dog Names                                  143KB  2017-08-31 16:04:44            276  \n",
            "rtatman/animal-bites                                 Animal Bites                                   675KB  2017-09-15 17:21:38            801  \n",
            "miroslavsabo/young-people-survey                     Young People Survey                            448KB  2016-12-06 03:10:30          18801  \n",
            "kmader/dogs-of-zurich                                Dogs of Zurich                                   1MB  2017-03-08 15:07:26            345  \n",
            "mchirico/cheltenham-s-facebook-group                 Cheltenham's Facebook Groups                    65MB  2018-04-02 18:55:36            901  \n",
            "iditarod/iditarod-race                               2017 Iditarod Trail Sled Dog Race              139KB  2017-03-22 15:04:59             86  \n",
            "dansbecker/dogs-gone-sideways                        Dogs Gone Sideways                              12MB  2018-01-10 18:03:02             90  \n",
            "biaiscience/dogs-vs-cats                             Dogs vs Cats                                   815MB  2017-12-05 14:03:33            186  \n",
            "rahul897/catsdogs                                    cats&dogs                                      217MB  2018-01-05 15:02:32            105  \n",
            "chetankv/dogs-cats-images                            Dogs & Cats Images                             217MB  2018-04-19 18:20:08              3  \n",
            "diwas13/dog-breed-classification                     Dog_Breed_Classification                       694MB  2018-03-01 05:33:57             21  \n",
            "dansbecker/hot-dog-not-hot-dog                       Hot Dog - Not Hot Dog                           45MB  2018-01-04 00:07:02            193  \n"
          ],
          "name": "stdout"
        }
      ]
    },
    {
      "metadata": {
        "id": "gYv6HzRVBr9t",
        "colab_type": "code",
        "colab": {}
      },
      "cell_type": "code",
      "source": [
        ""
      ],
      "execution_count": 0,
      "outputs": []
    }
  ]
}